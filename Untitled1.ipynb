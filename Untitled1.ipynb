{
  "nbformat": 4,
  "nbformat_minor": 0,
  "metadata": {
    "colab": {
      "provenance": []
    },
    "kernelspec": {
      "name": "python3",
      "display_name": "Python 3"
    },
    "language_info": {
      "name": "python"
    }
  },
  "cells": [
    {
      "cell_type": "code",
      "execution_count": 1,
      "metadata": {
        "id": "cCm1r6AeUQ50"
      },
      "outputs": [],
      "source": [
        "# Import libraries\n",
        "import pandas as pd\n",
        "import numpy as np\n",
        "import matplotlib.pyplot as plt\n",
        "from sklearn.model_selection import train_test_split\n",
        "from sklearn.linear_model import LinearRegression"
      ]
    },
    {
      "cell_type": "code",
      "source": [
        "# Load dataset\n",
        "url = 'http://bit.ly/w-data'\n",
        "data = pd.read_csv(url)\n"
      ],
      "metadata": {
        "id": "ZaRvoywpUXJJ"
      },
      "execution_count": 2,
      "outputs": []
    },
    {
      "cell_type": "code",
      "source": [
        "# Split data into predictor and response variables\n",
        "X = data.iloc[:, :-1].values\n",
        "y = data.iloc[:, -1].values"
      ],
      "metadata": {
        "id": "ENY11criUZRF"
      },
      "execution_count": 3,
      "outputs": []
    },
    {
      "cell_type": "code",
      "source": [
        "# Split data into training and testing sets\n",
        "X_train, X_test, y_train, y_test = train_test_split(X, y, test_size=0.2, random_state=0)\n",
        "\n",
        "# Fit linear regression model on training set\n",
        "regressor = LinearRegression()\n",
        "regressor.fit(X_train, y_train)\n",
        "\n",
        "# Predict percentage score on testing set\n",
        "y_pred = regressor.predict(X_test)\n",
        "\n",
        "# Evaluate performance of model using mean squared error and R-squared\n",
        "from sklearn.metrics import mean_squared_error, r2_score\n",
        "ms = mean_squared_error(y_test, y_pred)\n",
        "r2 = r2_score(y_test, y_pred)\n",
        "print('Mean squared error:', ms)\n",
        "print('R-squared:', r2)\n",
        "\n",
        "# Predict percentage score for a student who studies for 9.25 hours per day\n",
        "hours = [[9.25]]\n",
        "score = regressor.predict(hours)\n",
        "print('Predicted percentage score for a student who studies for 9.25 hours per day:', score[0])\n",
        "\n",
        "# Plot the regression line\n",
        "line = regressor.coef_*X+regressor.intercept_\n",
        "plt.scatter(X, y)\n",
        "plt.plot(X, line)\n",
        "plt.show()\n"
      ],
      "metadata": {
        "colab": {
          "base_uri": "https://localhost:8080/",
          "height": 482
        },
        "id": "QLwptq-mUdq_",
        "outputId": "2f84d527-2c05-4b86-db72-9eed7f56019e"
      },
      "execution_count": 4,
      "outputs": [
        {
          "output_type": "stream",
          "name": "stdout",
          "text": [
            "Mean squared error: 21.598769307217456\n",
            "R-squared: 0.9454906892105354\n",
            "Predicted percentage score for a student who studies for 9.25 hours per day: 93.69173248737539\n"
          ]
        },
        {
          "output_type": "display_data",
          "data": {
            "text/plain": [
              "<Figure size 640x480 with 1 Axes>"
            ],
            "image/png": "[encoded data removed]"
          },
          "metadata": {}
        }
      ]
    }
  ]
}